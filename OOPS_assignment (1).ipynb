{
  "nbformat": 4,
  "nbformat_minor": 0,
  "metadata": {
    "colab": {
      "provenance": []
    },
    "kernelspec": {
      "name": "python3",
      "display_name": "Python 3"
    },
    "language_info": {
      "name": "python"
    }
  },
  "cells": [
    {
      "cell_type": "markdown",
      "source": [
        "#Python OOPs Questions\n",
        "\n"
      ],
      "metadata": {
        "id": "wwD8EwdDalST"
      }
    },
    {
      "cell_type": "markdown",
      "source": [
        "##1. What is Object-Oriented Programming (OOP)?"
      ],
      "metadata": {
        "id": "SxdQmEXyalPA"
      }
    },
    {
      "cell_type": "markdown",
      "source": [
        "-> Object-oriented programming (OOP) is a computer programming model that organizes software design around data, or objects, rather than functions and logic.\n",
        "\n",
        "* It is a way of organizing code by creating \"blueprint\" called classes to represent real-world things like a student, car or house. These blueprint help us to create objects and define their behavior."
      ],
      "metadata": {
        "id": "vmI48fnwalMX"
      }
    },
    {
      "cell_type": "markdown",
      "source": [
        "##2. What is a class in OOP?"
      ],
      "metadata": {
        "id": "10lTK_O6alJl"
      }
    },
    {
      "cell_type": "markdown",
      "source": [
        "-> A class is a blueprint or template for creating objects.It defines the properties that is called 'attribute' and actions/behaviors (methods) that objects of this type will have.\n",
        "\n",
        "* Ex. A class is like a 'blueprint of a house' and an object is a 'house built' from that blueprint."
      ],
      "metadata": {
        "id": "4UMGqi1walHK"
      }
    },
    {
      "cell_type": "markdown",
      "source": [
        "##3. What is an object in OOP?"
      ],
      "metadata": {
        "id": "LsMe8phualEF"
      }
    },
    {
      "cell_type": "markdown",
      "source": [
        "-> An object is a specific instance of a class. It has actual data based on the blueprint defined by the class.\n",
        "\n",
        "* An object is a 'self-contained unit' that combines:\n",
        "\n",
        "1. Attributas > Attributes are called properties or data.\n",
        "\n",
        "2. Methods > In class functions are called methods that operate on the data.\n",
        "\n",
        "* Ex. If a 'class is a blueprint' then an 'object is the actual product' made from that blueprint.\n",
        "\n"
      ],
      "metadata": {
        "id": "is8s8gYDalBc"
      }
    },
    {
      "cell_type": "markdown",
      "source": [
        "##4. What is the difference between abstraction and encapsulation?\n"
      ],
      "metadata": {
        "id": "QwRWiuawak3l"
      }
    },
    {
      "cell_type": "markdown",
      "source": [
        " In Object-Oriented Programming (OOP):\n",
        "\n",
        "* Abstraction >\n",
        "\n",
        "Abstraction means showing only the essential features of an object and hiding the internal implementation.\n",
        "\n",
        "* Example: When we drive a car or bus, we use the steering wheel and pedals but we don't need to know how the engine works.\n",
        "Similarly, in programming.\n",
        "\n",
        "similarly when we use a TV remote, we just press buttons to change channels. We don't need to know how the electronics work inside.\n",
        "\n",
        "* Encapsulation >\n",
        "\n",
        "Encapsulation means bundling data (variables) and methods (functions) together in one unit (a class) and hiding the internal details from the outside world or keeping data safe and private inside a class.\n",
        "\n",
        "We can control access using special keywords like:\n",
        "\n",
        "private: hidden from outside\n",
        "\n",
        "public: open to all\n",
        "\n",
        "protected: limited access\n",
        "\n",
        "Here: name is hidden\n",
        "\n",
        "We access it only through getName() and setName() methods -> This is encapsulation\n",
        "\n",
        "Why is Encapsulation important?\n",
        "\n",
        "1. Protects data from unwanted changes\n",
        "2.  Makes code easier to manage\n",
        "3.  Improves security\n",
        "4.  Hides complex code from users\n"
      ],
      "metadata": {
        "id": "94x-hXLMakrM"
      }
    },
    {
      "cell_type": "markdown",
      "source": [
        "##5. What are dunder methods in Python?"
      ],
      "metadata": {
        "id": "_tteIP5_akb_"
      }
    },
    {
      "cell_type": "markdown",
      "source": [
        "-> Dunder method is also called magic or special method. These methods are defined by built in classes in Python. Dunder stands for \"Double UNDERscore\" like: _init, __str, __add_. They are special built-in methods in Python that start and end with double underscores (_method_),\n",
        "and they let us customize the behavior of our objects.\n",
        "\n",
        "* Why are they used?\n",
        "\n",
        "To override or customize how objects behave with:\n",
        "\n",
        "Printing (_str_)\n",
        "\n",
        "Addition (_add_)\n",
        "\n",
        "Comparison (_eq, __lt_)\n",
        "\n",
        "Length (_len_) etc.\n",
        "\n",
        "* Ex. Common Dunder Methods:\n",
        "\n",
        "_init_\tConstructor – initializes the object\tobj = MyClass()\n",
        "_str_"
      ],
      "metadata": {
        "id": "MaVVTDXcxaZJ"
      }
    },
    {
      "cell_type": "markdown",
      "source": [
        "##6. Explain the concept of inheritance in OOP?\n"
      ],
      "metadata": {
        "id": "virNNvM4zetT"
      }
    },
    {
      "cell_type": "markdown",
      "source": [
        "-> > A child class or subclass can inherit from a parent class or superclass, so we don't have to write the same code again.\n",
        "\n",
        " Example:\n",
        "\n",
        "Imagine a class Vehicle.\n",
        "\n",
        "All vehicles have wheels, engines, and the ability to move.\n",
        "\n",
        "Now, we can create a class Car or bus that inherit from Vehicle - they will get all the features of Vehicle but can also have their own unique features.\n",
        "\n",
        "* Types of Inheritance in OOP:\n",
        "\n",
        "Single Inheritance\tOne child inherits one parent\n",
        "\n",
        "Multiple Inheritance\tOne child inherits from many parents\n",
        "\n",
        "Multilevel Inheritance\tChild → Parent → Grandparent\n",
        "\n",
        "Hierarchical Inheritance\tMultiple children inherit from one parent\n",
        "\n",
        "* Why we Use Inheritance?\n",
        "\n",
        " Reusability: Don't repeat code\n",
        "\n",
        " Hierarchy: Easy to understand relationships\n",
        "\n",
        " Extensibility: Add new features easily\n",
        "\n",
        "\n",
        "\n"
      ],
      "metadata": {
        "id": "_bhZ0Q_kzuhr"
      }
    },
    {
      "cell_type": "markdown",
      "source": [
        "##7. What is polymorphism in OOP?"
      ],
      "metadata": {
        "id": "L3NQIxI11udA"
      }
    },
    {
      "cell_type": "markdown",
      "source": [
        "-> Polymorphism means \"many forms\". In OOP, it refers to the ability of different classes to respond to the same method name in different ways.\n",
        "A single interface or method name, can work with different types of objects, and those objects can define their own behavior for that method.\n",
        "\n",
        "* Types of Polymorphism:\n",
        "\n",
        "1. Compile-Time Polymorphism (Method Overloading) — common in Java/C++ but\n",
        "Python doesn't support this directly.\n",
        "\n",
        "\n",
        "2. Run-Time Polymorphism (Method Overriding) — Python supports it.\n",
        "A subclass overrides a method of its parent class.\n",
        "\n",
        "\n",
        "* Benefits of Polymorphism:\n",
        "\n",
        "Increases flexibility and scalability.\n",
        "\n",
        "Helps in code reuse.\n",
        "\n",
        "Supports dynamic method binding.\n",
        "\n"
      ],
      "metadata": {
        "id": "soEHfg-u11f8"
      }
    },
    {
      "cell_type": "markdown",
      "source": [
        "##8. How is encapsulation achieved in Python?"
      ],
      "metadata": {
        "id": "CesoHFijajxD"
      }
    },
    {
      "cell_type": "markdown",
      "source": [
        "In Python, encapsulation is achieved using classes, and by controlling access to variables and methods using naming conventions.\n",
        "\n",
        " How Encapsulation Works in Python:\n",
        "\n",
        "Python doesn't have private or protected keywords like Java or C++,\n",
        "but we use underscore _ and double underscore __ to control access.\n",
        "\n",
        " 1. Public Members can be accessed from anywhere\n",
        "\n",
        "\n",
        " 2. Protected Members (convention: _single underscore)\n",
        "\n",
        "\n",
        " 3. Private Members (double underscore__)"
      ],
      "metadata": {
        "id": "AHXOSzDcvVOO"
      }
    },
    {
      "cell_type": "markdown",
      "source": [
        "##9. What is a constructor in Python?"
      ],
      "metadata": {
        "id": "YTlvrT9rPlPt"
      }
    },
    {
      "cell_type": "markdown",
      "source": [
        "-> A constructor in Python is a special method used to initialize objects when a class is created. It sets up the initial state of an object by assigning values to its properties. In Python, the constructor is:\n",
        "\n",
        "def __init__(self):\n",
        "\n",
        "__init__ is a dunder method. It is called automatically when we create a new object from a class.\n",
        "\n",
        "\n",
        "* The constructor runs automatically when we create an object.\n",
        "\n",
        "self refers to the current object being created.\n",
        "\n",
        "and pass arguments to _init_ to customize each object.\n",
        "\n",
        "\n",
        "* Types of Constructors in Python:\n",
        "\n",
        "1. Default Constructor: No parameters (other than self).\n",
        "\n",
        "\n",
        "2. Parameterized Constructor: Takes arguments to initialize values.\n"
      ],
      "metadata": {
        "id": "mGU1Z6lq9XHy"
      }
    },
    {
      "cell_type": "markdown",
      "source": [
        "##10. What are class and static methods in Python?"
      ],
      "metadata": {
        "id": "jkZGNRP4PnhP"
      }
    },
    {
      "cell_type": "markdown",
      "source": [
        "-> In Python, both class methods and static methods are defined within a class but differ in their behavior and typical use cases:\n",
        "\n",
        "Class Methods: A class method is a method bound to the class and not the instance (object) of the class. It takes the class itself as its first argument, conventionally named cls.\n",
        "\n",
        "It is defined using the @classmethod decorator.\n",
        "\n",
        "Access: Class methods can access and modify class-level attributes, but they cannot directly access or modify instance-specific attributes.\n",
        "\n",
        "\n",
        "* 2. Static Methods\n",
        "\n",
        "A static method does not take self or cls as the first parameter.\n",
        "It is defined using the @staticmethod decorator.\n",
        "\n",
        "It does not depend on the class or object.\n",
        "\n",
        "we can use it when our method doesn’t need to access or modify the class or instance."
      ],
      "metadata": {
        "id": "K8KvwuSA6CSY"
      }
    },
    {
      "cell_type": "markdown",
      "source": [
        "##11. What is method overloading in Python?"
      ],
      "metadata": {
        "id": "IGzEYLPzPndE"
      }
    },
    {
      "cell_type": "markdown",
      "source": [
        "-> Method Overloading means having multiple methods with the same name but different arguments (number or type of parameters).\n",
        "\n",
        "Example from other languages (like Java):\n",
        "\n",
        "In Java, method overloading works like this:\n",
        "\n",
        "void add(int a, int b)\n",
        "void add(int a, int b, int c)\n",
        "\n",
        "But in Python, this kind of overloading is not directly supported. If we define a method twice with the same name in a class, the last one will override the earlier ones."
      ],
      "metadata": {
        "id": "aVJZ1npm_KoV"
      }
    },
    {
      "cell_type": "markdown",
      "source": [
        "##12. What is method overriding in OOP?"
      ],
      "metadata": {
        "id": "0GXlyGCKQQRV"
      }
    },
    {
      "cell_type": "markdown",
      "source": [
        "->   Method Overloading is a fundamental concept in OOP that enables a class to define multiple methods with the same name but different parameters.This is a form of polymorphism, specifically compile-time polymorphism, where the correct method is determined at compile time based on the method signature (name and parameters).\n",
        "\n",
        "In Python, this powerful feature allows developers to create versatile functions capable of handling various data types.\n"
      ],
      "metadata": {
        "id": "NwAL8W7r3BT0"
      }
    },
    {
      "cell_type": "markdown",
      "source": [
        "##13.What is a property decorator in Python?"
      ],
      "metadata": {
        "id": "V2bocm-NPl65"
      }
    },
    {
      "cell_type": "markdown",
      "source": [
        "-> In Python, the @property decorator is a built-in decorator that transforms a method within a class into a \"property.\" This allows the method to be accessed and potentially modified or deleted as if it were a regular attribute, while still enabling the execution of custom logic (like validation, computation, or access control) when the attribute is accessed, assigned, or deleted or a property decorator is used to define managed attributes in classes. It allows us to access methods like attributes while still adding logic when getting, setting, or deleting them.\n",
        "\n",
        "\n",
        " Why we Use @property?\n",
        "\n",
        "It helps us:\n",
        "\n",
        "Hide implementation details (encapsulation)\n",
        "\n",
        "Add logic when accessing attributes\n",
        "\n",
        "Make method calls look like simple attribute access\n",
        "\n"
      ],
      "metadata": {
        "id": "IIE2-bDk5sGM"
      }
    },
    {
      "cell_type": "markdown",
      "source": [
        "##14.Why is polymorphism important in OOP?"
      ],
      "metadata": {
        "id": "k7uWPzLyQw-A"
      }
    },
    {
      "cell_type": "markdown",
      "source": [
        "-> Polymorphism is important because it allows: One interface to support many implementations. Writing more generic, extensible, and maintainable code or we can say it is important in OOP because it allows objects of different classes to be treated as if they are of the same class, typically through a common interface (like a base class). This makes code more flexible, reusable, and easier to maintain.\n",
        "\n",
        "\n",
        "* Polymorphism Matters because:\n",
        "\n",
        "I. Code Reusability\twe can write generic code that works with different types.\n",
        "\n",
        "II. Flexibility\tAdd new classes without changing existing code.\n",
        "\n",
        "III. Maintainability\tEasier to update or fix code when changes are needed.\n",
        "\n",
        "IV. Extensibility\tNew features can be added with minimal changes to existing code.\n",
        "\n",
        "\n",
        "Types of Polymorphism:\n",
        "\n",
        "1. Compile-time (Overloading) - Not native to Python but seen in other languages like Java/C++.\n",
        "\n",
        "\n",
        "2. Run-time (Overriding) - Widely used in Python via method overriding.\n"
      ],
      "metadata": {
        "id": "6EIyn9iK7cz_"
      }
    },
    {
      "cell_type": "markdown",
      "source": [
        "##15.What is an abstract class in Python?"
      ],
      "metadata": {
        "id": "SnQJJa4_Qx4t"
      }
    },
    {
      "cell_type": "markdown",
      "source": [
        "-> In Python, an abstract class is a class that cannot be instantiated on its own and is designed to be a blueprint for other classes. Abstract classes allow us to define methods that must be implemented by subclasses, ensuring a consistent interface while still allowing the subclasses to provide specific implementations.\n",
        "\n",
        "* An abstract class is a class that cannot be instantiated directly and is meant to be inherited by other classes. It is used to define a common interface for a group of subclasses. Abstract classes are defined using the abc module.\n",
        "\n"
      ],
      "metadata": {
        "id": "6k_zBNc38Cny"
      }
    },
    {
      "cell_type": "markdown",
      "source": [
        "###16. What are the advantages of OOP?"
      ],
      "metadata": {
        "id": "jkgheAld8Cl0"
      }
    },
    {
      "cell_type": "markdown",
      "source": [
        "-> OOP is a programming paradigm based on the concept of objects, which bundle data and behavior together. Python, Java, C++, and many other languages use OOP principles.\n",
        "\n",
        "* Advantages of OOP:\n",
        "\n",
        "Modularity:\tEasier to manage large projects\n",
        "\n",
        "Reusability:\tLess code duplication\n",
        "\n",
        "Encapsulation:\tProtects data integrity\n",
        "\n",
        "Maintainability:\tEasier to modify and extend\n",
        "\n",
        "Polymorphism:\tFlexible code interfaces\n",
        "\n",
        "Abstraction:\tSimplifies complex systems\n",
        "\n",
        "Real-world Model:\tIntuitive design approach\n",
        "\n",
        "\n"
      ],
      "metadata": {
        "id": "di4P7Vi0cgNB"
      }
    },
    {
      "cell_type": "markdown",
      "source": [
        "###17.What is the difference between a class variable and an instance variable?\n"
      ],
      "metadata": {
        "id": "TLQp0XG_8CjP"
      }
    },
    {
      "cell_type": "markdown",
      "source": [
        "-> Class variables and instance variables differ in their scope and how they are accessed. Class variables are shared among all instances of a class, while instance variables are unique to each object (instance) of a class.\n",
        "\n",
        "* Class Variables:\n",
        "\n",
        "Definition: Variables that are shared among all instances (objects) of a class.\n",
        "\n",
        "Scope: Belongs to the class, not to any one object.\n",
        "\n",
        "Usage: It is used to store data that should be the same for all objects.\n",
        "\n",
        "\n",
        "* Instance Variables:\n",
        "\n",
        "Definition: Variables that are unique to each instance (object) of a class.\n",
        "\n",
        "Scope: It belongs to the object itself.\n",
        "\n",
        "Usage: It is used to store data that is different for each object.\n",
        "\n",
        "\n"
      ],
      "metadata": {
        "id": "aopCLr_9acLr"
      }
    },
    {
      "cell_type": "markdown",
      "source": [
        "###18. What is multiple inheritance in Python?"
      ],
      "metadata": {
        "id": "dV4l2z308Cgu"
      }
    },
    {
      "cell_type": "markdown",
      "source": [
        "-> Multiple inheritance in Python is a feature that allows a class to inherit attributes and methods from more than one parent class. This means a single child class can combine functionalities and characteristics from multiple distinct base classes.\n",
        "\n",
        "* a class can be derived from multiple base classes, meaning it can access the properties and behaviors of all its parent classes."
      ],
      "metadata": {
        "id": "8TbJ76CYMgTG"
      }
    },
    {
      "cell_type": "markdown",
      "source": [
        "###19. Explain the purpose of ‘’__str__’ and ‘__repr__’ ‘ methods in Python?"
      ],
      "metadata": {
        "id": "_-pmspxI8CRT"
      }
    },
    {
      "cell_type": "markdown",
      "source": [
        "-> In Python, __str__ and __repr__ are special methods also known as \"dunder methods\" or \"magic methods\", that define how objects are represented as strings. They serve different purposes:\n",
        "\n",
        "* _str_():\n",
        "\n",
        "Purpose: Provides a human-readable, user-friendly string representation of an object.\n",
        "\n",
        "Usage: Primarily intended for displaying information to end-users, for example, when using print() or str().\n",
        "\n",
        "Goal: Readability and clarity for a general audience.\n",
        "Example: For a Date object, _str_ might return \"July 5, 2025\".\n",
        "\n",
        "* _repr_():\n",
        "\n",
        "Purpose: Provides an unambiguous, developer-focused string representation of an object.\n",
        "\n",
        "Usage: Primarily intended for debugging, logging, and situations where a precise and reconstructible representation of the object's state\n"
      ],
      "metadata": {
        "id": "hhaErxADJqFh"
      }
    },
    {
      "cell_type": "markdown",
      "source": [
        "###20.What is the significance of the ‘super()’ function in Python?"
      ],
      "metadata": {
        "id": "F1O7dRmB8CPP"
      }
    },
    {
      "cell_type": "markdown",
      "source": [
        "->The super() function in Python is a built-in function that provides a way to access methods and attributes of a parent or sibling class, especially within the context of inheritance in object-oriented programming. Its significance lies in enabling proper method resolution and initialization in class hierarchies, particularly in scenarios involving single and multiple inheritance.\n",
        "\n",
        "* Significance of super()\n",
        "\n",
        "1. Access parent class methods or constructors without explicitly naming the parent.\n",
        "\n",
        "\n",
        "2. Supports multiple inheritance cleanly.\n",
        "\n",
        "\n",
        "3. Promotes code reuse and maintainability.\n",
        "\n"
      ],
      "metadata": {
        "id": "PhVTqco7IiBt"
      }
    },
    {
      "cell_type": "markdown",
      "source": [
        "###21.What is the significance of the __del__ method in Python?\n"
      ],
      "metadata": {
        "id": "RJnTlnf58CMS"
      }
    },
    {
      "cell_type": "markdown",
      "source": [
        "-> The _del_ method in Python is a special method called when an object is about to be destroyed (i.e., garbage collected). It acts like a destructor.\n",
        "\n",
        "\n",
        "* Significance of _del_:\n",
        "\n",
        "I. It is used to clean up resources (like files, network connections, or memory).\n",
        "\n",
        "II. It is called automatically when there are no more references to the object.\n",
        "\n",
        "III. Not guaranteed to be called immediately (depends on Python’s garbage collector).\n",
        "\n",
        "\n"
      ],
      "metadata": {
        "id": "bxvg7nbcHA8t"
      }
    },
    {
      "cell_type": "markdown",
      "source": [
        "###22.What is the difference between @staticmethod and @classmethod in Python?\n"
      ],
      "metadata": {
        "id": "H8LQlkmb8B-K"
      }
    },
    {
      "cell_type": "markdown",
      "source": [
        "-> In Python, both static methods and class methods are defined within a class but differ in their relationship to the class and its instances.\n",
        "\n",
        "* Class Methods:\n",
        "\n",
        "Decorator: Defined using the @classmethod decorator.\n",
        "\n",
        "First Argument: It automatically takes the class itself as its first argument, conventionally named cls.\n",
        "\n",
        "Access: It can access and modify class-level attributes and call other class methods. They are typically used for:\n",
        "\n",
        "Alternative Constructors: Creating instances of the class in different ways.\n",
        "\n",
        "Class-Level Operations: Performing actions that affect the entire class or its state.\n",
        "\n",
        "* Static Methods:\n",
        "\n",
        "Decorator: Defined using the @staticmethod decorator.\n",
        "\n",
        "First Argument: It does not take self (instance) or cls (class) as an implicit first argument.\n",
        "\n",
        "Access: It cannot directly access or modify instance-specific or class-specific attributes. They function like regular functions but are logically grouped within a class for organizational purposes. They are typically used for:\n",
        "\n",
        "Utility Functions: Functions that perform a task related to the class but do not depend on the class's state or any specific instance."
      ],
      "metadata": {
        "id": "SNcRT5KOFffu"
      }
    },
    {
      "cell_type": "markdown",
      "source": [
        "###23.How does polymorphism work in Python with inheritance?"
      ],
      "metadata": {
        "id": "tNWgAxeDQyTN"
      }
    },
    {
      "cell_type": "markdown",
      "source": [
        "-> Polymorphism means “many forms”, in OOP, it allows objects of different classes to be treated as objects of a common superclass, especially when using inheritance.\n",
        "\n",
        "* How It Works in Python:\n",
        "\n",
        "When multiple classes inherit from the same parent class and override the same method, Python allows us to call the method without knowing the exact class type — that's polymorphism!\n",
        "\n",
        "* Benefits of Polymorphism:\n",
        "\n",
        "I. Cleaner code (no need for if-else checks)\n",
        "\n",
        "II. Easier to extend and maintain\n",
        "\n",
        "III. Allows us to write generic functions\n",
        "\n",
        "\n",
        "\n",
        "\n"
      ],
      "metadata": {
        "id": "o8XwUnK3ECqr"
      }
    },
    {
      "cell_type": "markdown",
      "source": [
        "###24.What is method chaining in Python OOP?\n"
      ],
      "metadata": {
        "id": "u7AtN6jGQyi2"
      }
    },
    {
      "cell_type": "markdown",
      "source": [
        "-> Method chaining is a programming technique where multiple methods are called on the same object in a single line, one after another.Each method returns the object itself (self), so the next method can be called on it.\n",
        "\n",
        "Why we use method chaining?\n",
        "\n",
        "I. Makes code shorter and cleaner\n",
        "\n",
        "II. Improves readability\n",
        "\n",
        "III. Feels more natural for fluent interfaces\n",
        "\n"
      ],
      "metadata": {
        "id": "bqjtq5faCgqi"
      }
    },
    {
      "cell_type": "markdown",
      "source": [
        "###25.What is the purpose of the __call__ method in Python?"
      ],
      "metadata": {
        "id": "Yqr53N3JQyqU"
      }
    },
    {
      "cell_type": "markdown",
      "source": [
        "-> The purpose of the _call_ method in Python is to enable instances of a class to be callable like functions. When this \"dunder\" (double underscore) method is defined within a class, calling an object of that class (e.g., my_object(arg1, arg2)) will automatically execute the code within the _call_ method.\n",
        "\n",
        "This functionality allows for the creation of \"callable objects\" or \"functors,\" which are objects that encapsulate both data and behavior, and can be invoked directly, similar to how a function is called"
      ],
      "metadata": {
        "id": "3Ra-gaDCQzEx"
      }
    },
    {
      "cell_type": "markdown",
      "source": [
        "#Practical Questions"
      ],
      "metadata": {
        "id": "OPWkEWXReWIi"
      }
    },
    {
      "cell_type": "markdown",
      "source": [
        "###1. Create a parent class Animal with a method speak() that prints a generic message. Create a child class Dog that overrides the speak() method to print \"Bark!\".\n",
        "\n",
        "\n"
      ],
      "metadata": {
        "id": "Ff6u6WsQee2E"
      }
    },
    {
      "cell_type": "code",
      "source": [
        "class Animal:\n",
        "    def speak(self):\n",
        "        print(\"This is a animal sound.\")\n",
        "\n",
        "class Dog(Animal):\n",
        "    def speak(self):\n",
        "        print(\"Bark!\")\n",
        "\n",
        "a = Animal()\n",
        "a.speak()\n",
        "\n",
        "d = Dog()\n",
        "d.speak()"
      ],
      "metadata": {
        "colab": {
          "base_uri": "https://localhost:8080/"
        },
        "id": "2YBaYHxGe2Sc",
        "outputId": "1085bd0c-1cdc-4f1d-c037-b5d860758d41"
      },
      "execution_count": null,
      "outputs": [
        {
          "output_type": "stream",
          "name": "stdout",
          "text": [
            "This is a animal sound.\n",
            "Bark!\n"
          ]
        }
      ]
    },
    {
      "cell_type": "markdown",
      "source": [
        "###2. Write a program to create an abstract class Shape with a method area(). Derive classes Circle and Rectangle from it and implement the area() method in both.\n",
        "\n",
        "\n"
      ],
      "metadata": {
        "id": "PkbqTqTRe21Y"
      }
    },
    {
      "cell_type": "code",
      "source": [
        "from abc import ABC, abstractmethod\n",
        "import math\n",
        "\n",
        "class Shape(ABC): # Abstract class\n",
        "\n",
        "    @abstractmethod\n",
        "    def area(self):\n",
        "        pass\n",
        "\n",
        "class Circle(Shape): # Derived class Circle\n",
        "\n",
        "    def __init__(self, radius):\n",
        "        self.radius = radius\n",
        "\n",
        "    def area(self):\n",
        "        return math.pi * self.radius ** 2\n",
        "\n",
        "class Rectangle(Shape): # Derived class Rectangle\n",
        "\n",
        "    def __init__(self, length, width):\n",
        "        self.length = length\n",
        "        self.width = width\n",
        "\n",
        "    def area(self):\n",
        "        return self.length * self.width\n",
        "\n",
        "\n",
        "circle = Circle(5)\n",
        "rectangle = Rectangle(4, 6)\n",
        "\n",
        "\n",
        "print(f\"Area of Circle with radius 5 = {circle.area():.2f}\")\n",
        "print(f\"Area of Rectangle with length 4 and width 6 = {rectangle.area()}\")"
      ],
      "metadata": {
        "colab": {
          "base_uri": "https://localhost:8080/"
        },
        "id": "jDDiGHllnmOo",
        "outputId": "5c90d876-cadb-4035-89ab-cb173fb05786"
      },
      "execution_count": null,
      "outputs": [
        {
          "output_type": "stream",
          "name": "stdout",
          "text": [
            "Area of Circle with radius 5 = 78.54\n",
            "Area of Rectangle with length 4 and width 6 = 24\n"
          ]
        }
      ]
    },
    {
      "cell_type": "markdown",
      "source": [
        "###3. Implement a multi-level inheritance scenario where a class Vehicle has an attribute type. Derive a class Car and further derive a class ElectricCar that adds a battery attribute.\n"
      ],
      "metadata": {
        "id": "z_NrEPUke-k9"
      }
    },
    {
      "cell_type": "code",
      "source": [
        "class Vehicle: # Base class\n",
        "    def __init__(self, vehicle_type):\n",
        "        self.type = vehicle_type\n",
        "\n",
        "    def display(self):\n",
        "        print(f\"Vehicle type: {self.type}\")\n",
        "\n",
        "class Car(Vehicle): # Derived class from Vehicle\n",
        "\n",
        "    def __init__(self, vehicle_type, brand):\n",
        "        super().__init__(vehicle_type)\n",
        "        self.brand = brand\n",
        "\n",
        "    def display(self):\n",
        "        super().display()\n",
        "        print(f\"Car brand: {self.brand}\")\n",
        "\n",
        "\n",
        "class ElectricCar(Car): # Further derived class from Car\n",
        "    def __init__(self, vehicle_type, brand, battery_capacity):\n",
        "        super().__init__(vehicle_type, brand)\n",
        "        self.battery = battery_capacity\n",
        "\n",
        "    def display(self):\n",
        "        super().display()\n",
        "        print(f\"Battery capacity: {self.battery} kWh\")\n",
        "\n",
        "\n",
        "e_car = ElectricCar(\"Four Wheeler\", \"Tesla\", 75)\n",
        "e_car.display()"
      ],
      "metadata": {
        "colab": {
          "base_uri": "https://localhost:8080/"
        },
        "id": "kC9xWblKfHI3",
        "outputId": "4fc99d8d-6f1f-4643-f8c6-b9ffd8402ca4"
      },
      "execution_count": null,
      "outputs": [
        {
          "output_type": "stream",
          "name": "stdout",
          "text": [
            "Vehicle type: Four Wheeler\n",
            "Car brand: Tesla\n",
            "Battery capacity: 75 kWh\n"
          ]
        }
      ]
    },
    {
      "cell_type": "markdown",
      "source": [
        "###4. Demonstrate polymorphism by creating a base class Bird with a method fly(). Create two derived classes Sparrow and Penguin that override the fly() method."
      ],
      "metadata": {
        "id": "1v2gpexWfHzi"
      }
    },
    {
      "cell_type": "code",
      "source": [
        "class Bird: # Base class\n",
        "    def fly(self):\n",
        "        print(\"Some birds can fly, some cannot.\")\n",
        "\n",
        "\n",
        "class Sparrow(Bird): # Derived class Sparrow\n",
        "    def fly(self):\n",
        "        print(\"Sparrow can fly.\")\n",
        "\n",
        "\n",
        "class Penguin(Bird): # Derived class Penguin\n",
        "    def fly(self):\n",
        "        print(\"Penguin cannot fly.\")\n",
        "\n",
        "\n",
        "birds = [Sparrow(), Penguin()] # polymorphism\n",
        "\n",
        "for bird in birds:\n",
        "    bird.fly()"
      ],
      "metadata": {
        "colab": {
          "base_uri": "https://localhost:8080/"
        },
        "id": "7tco4ohRfRBV",
        "outputId": "037b2395-2167-422a-b06d-f8adea468443"
      },
      "execution_count": null,
      "outputs": [
        {
          "output_type": "stream",
          "name": "stdout",
          "text": [
            "Sparrow can fly.\n",
            "Penguin cannot fly.\n"
          ]
        }
      ]
    },
    {
      "cell_type": "markdown",
      "source": [
        "###5. Write a program to demonstrate encapsulation by creating a class BankAccount with private attributes balance and methods to deposit, withdraw, and check balance.\n"
      ],
      "metadata": {
        "id": "VEtjn7jBfSAg"
      }
    },
    {
      "cell_type": "code",
      "source": [
        "class BankAccount:\n",
        "    def __init__(self, initial_balance=0):\n",
        "        self.__balance = initial_balance  # private attribute\n",
        "\n",
        "    def deposit(self, amount):\n",
        "        if amount > 0:\n",
        "            self.__balance += amount\n",
        "            print(f\"Deposited: {amount}\")\n",
        "        else:\n",
        "            print(\"Deposit amount must be positive.\")\n",
        "\n",
        "    def withdraw(self, amount):\n",
        "        if 0 < amount <= self.__balance:\n",
        "            self.__balance -= amount\n",
        "            print(f\"Withdrawn: {amount}\")\n",
        "        else:\n",
        "            print(\"Insufficient balance or invalid amount.\")\n",
        "\n",
        "    def check_balance(self):\n",
        "        print(f\"Current balance: {self.__balance}\")\n",
        "\n",
        "\n",
        "account = BankAccount(500)\n",
        "account.check_balance()\n",
        "account.deposit(100)\n",
        "account.withdraw(50)\n",
        "account.check_balance()\n",
        "account.withdraw(800)  # trying to withdraw more than balance"
      ],
      "metadata": {
        "colab": {
          "base_uri": "https://localhost:8080/"
        },
        "id": "22EYrBGffans",
        "outputId": "a3071ef0-f0e6-4d60-a9f6-b55c5f46b9da"
      },
      "execution_count": null,
      "outputs": [
        {
          "output_type": "stream",
          "name": "stdout",
          "text": [
            "Current balance: 500\n",
            "Deposited: 100\n",
            "Withdrawn: 50\n",
            "Current balance: 550\n",
            "Insufficient balance or invalid amount.\n"
          ]
        }
      ]
    },
    {
      "cell_type": "markdown",
      "source": [
        "###6. Demonstrate runtime polymorphism using a method play() in a base class Instrument. Derive classes Guitar and Piano that implement their own version of play().\n"
      ],
      "metadata": {
        "id": "aFaufI63fbRq"
      }
    },
    {
      "cell_type": "code",
      "source": [
        "class Instrument: # Base class\n",
        "    def play(self):\n",
        "        print(\"Playing some instrument.\")\n",
        "\n",
        "\n",
        "class Guitar(Instrument): # Derived class Guitar\n",
        "    def play(self):\n",
        "        print(\"Strumming the guitar strings.\")\n",
        "\n",
        "\n",
        "class Piano(Instrument): # Derived class Piano\n",
        "    def play(self):\n",
        "        print(\"Pressing the piano keys.\")\n",
        "\n",
        "\n",
        "instruments = [Guitar(), Piano()] # polymorphism\n",
        "\n",
        "for instrument in instruments:\n",
        "    instrument.play()"
      ],
      "metadata": {
        "colab": {
          "base_uri": "https://localhost:8080/"
        },
        "id": "YqHSrofEfmVg",
        "outputId": "582bd50c-bd7f-4a68-bf6b-5d403807840a"
      },
      "execution_count": null,
      "outputs": [
        {
          "output_type": "stream",
          "name": "stdout",
          "text": [
            "Strumming the guitar strings.\n",
            "Pressing the piano keys.\n"
          ]
        }
      ]
    },
    {
      "cell_type": "markdown",
      "source": [
        "###7. Create a class MathOperations with a class method add_numbers() to add two numbers and a static method subtract_numbers() to subtract two numbers.\n"
      ],
      "metadata": {
        "id": "LrTqLuTafnCx"
      }
    },
    {
      "cell_type": "code",
      "source": [
        "class MathOperations:\n",
        "    @classmethod\n",
        "    def add_numbers(cls, a, b):\n",
        "        return a + b\n",
        "\n",
        "    @staticmethod\n",
        "    def subtract_numbers(a, b):\n",
        "        return a - b\n",
        "\n",
        "\n",
        "print(\"Sum:\", MathOperations.add_numbers(20, 50))\n",
        "print(\"Difference:\", MathOperations.subtract_numbers(10, 3))"
      ],
      "metadata": {
        "colab": {
          "base_uri": "https://localhost:8080/"
        },
        "id": "mTKFkgOxfvUt",
        "outputId": "cba1298b-171f-4395-c2b3-1fdcd885421e"
      },
      "execution_count": null,
      "outputs": [
        {
          "output_type": "stream",
          "name": "stdout",
          "text": [
            "Sum: 70\n",
            "Difference: 7\n"
          ]
        }
      ]
    },
    {
      "cell_type": "markdown",
      "source": [
        "###8. Implement a class Person with a class method to count the total number of persons created.\n",
        "\n",
        "\n"
      ],
      "metadata": {
        "id": "ns64W2wWfv39"
      }
    },
    {
      "cell_type": "code",
      "source": [
        "class Person:\n",
        "    count = 0\n",
        "\n",
        "    def __init__(self, name):\n",
        "        self.name = name\n",
        "        Person.count += 1\n",
        "\n",
        "    @classmethod\n",
        "    def total_persons(cls):\n",
        "        return cls.count\n",
        "\n",
        "\n",
        "p1 = Person(\"Abhi\")\n",
        "p2 = Person(\"Raghav\")\n",
        "p3 = Person(\"Rishi\")\n",
        "\n",
        "print(\"Total persons created:\", Person.total_persons())"
      ],
      "metadata": {
        "colab": {
          "base_uri": "https://localhost:8080/"
        },
        "id": "fYvtPKAYf118",
        "outputId": "41fcb5ec-d883-463e-cfb5-aec10317013b"
      },
      "execution_count": null,
      "outputs": [
        {
          "output_type": "stream",
          "name": "stdout",
          "text": [
            "Total persons created: 3\n"
          ]
        }
      ]
    },
    {
      "cell_type": "markdown",
      "source": [
        "###9. Write a class Fraction with attributes numerator and denominator. Override the str method to display the fraction as \"numerator/denominator\"."
      ],
      "metadata": {
        "id": "dfGlp9mPf2Y7"
      }
    },
    {
      "cell_type": "code",
      "source": [
        "class Fraction:\n",
        "    def __init__(self, numerator, denominator):\n",
        "        self.numerator = numerator\n",
        "        self.denominator = denominator\n",
        "\n",
        "    def __str__(self):\n",
        "        return f\"{self.numerator}/{self.denominator}\"\n",
        "\n",
        "\n",
        "f = Fraction(3, 4)\n",
        "print(\"Fraction is:\", f)"
      ],
      "metadata": {
        "colab": {
          "base_uri": "https://localhost:8080/"
        },
        "id": "iHN69W-2vI-w",
        "outputId": "26f1c3c6-ea7f-4bc0-941e-02844310fce8"
      },
      "execution_count": null,
      "outputs": [
        {
          "output_type": "stream",
          "name": "stdout",
          "text": [
            "Fraction is: 3/4\n"
          ]
        }
      ]
    },
    {
      "cell_type": "markdown",
      "source": [
        "###10. Demonstrate operator overloading by creating a class Vector and overriding the add method to add two vectors.\n"
      ],
      "metadata": {
        "id": "MUCIXrEBf_-9"
      }
    },
    {
      "cell_type": "code",
      "source": [
        "class Vector:\n",
        "    def __init__(self, x, y):\n",
        "        self.x = x\n",
        "        self.y = y\n",
        "\n",
        "    def __add__(self, other):\n",
        "        return Vector(self.x + other.x, self.y + other.y)\n",
        "\n",
        "    def __str__(self):\n",
        "        return f\"({self.x}, {self.y})\"\n",
        "\n",
        "\n",
        "v1 = Vector(4, 5)\n",
        "v2 = Vector(6, 7)\n",
        "v3 = v1 + v2\n",
        "print(\"Sum of vectors:\", v3)"
      ],
      "metadata": {
        "colab": {
          "base_uri": "https://localhost:8080/"
        },
        "id": "xGlf5uRAgPTd",
        "outputId": "e3ba4cff-1733-45ab-f9a3-175cfeb4578b"
      },
      "execution_count": null,
      "outputs": [
        {
          "output_type": "stream",
          "name": "stdout",
          "text": [
            "Sum of vectors: (10, 12)\n"
          ]
        }
      ]
    },
    {
      "cell_type": "markdown",
      "source": [
        "###11. Create a class Person with attributes name and age. Add a method greet() that prints \"Hello, my name is {name} and I am {age} years old.\"\n"
      ],
      "metadata": {
        "id": "HkViO-x4gP3q"
      }
    },
    {
      "cell_type": "code",
      "source": [
        "class Person:\n",
        "    def __init__(self, name, age):\n",
        "        self.name = name\n",
        "        self.age = age\n",
        "\n",
        "    def greet(self):\n",
        "        print(f\"Hello, my name is {self.name} and I am {self.age} years old.\")\n",
        "\n",
        "\n",
        "p = Person(\"Abhi\", 35)\n",
        "p.greet()"
      ],
      "metadata": {
        "colab": {
          "base_uri": "https://localhost:8080/"
        },
        "id": "hdhqDpY1gTcm",
        "outputId": "54d5ac46-d990-492d-ffde-dcdedc5825c4"
      },
      "execution_count": null,
      "outputs": [
        {
          "output_type": "stream",
          "name": "stdout",
          "text": [
            "Hello, my name is Abhi and I am 35 years old.\n"
          ]
        }
      ]
    },
    {
      "cell_type": "markdown",
      "source": [
        "###12. Implement a class Student with attributes name and grades. Create a method average_grade() to compute the average of the grades.\n"
      ],
      "metadata": {
        "id": "582hsIk3gT8F"
      }
    },
    {
      "cell_type": "code",
      "source": [
        "class Student:\n",
        "    def __init__(self, name, grades):\n",
        "        self.name = name\n",
        "        self.grades = grades  # a list of numbers\n",
        "\n",
        "    def average_grade(self):\n",
        "        return sum(self.grades) / len(self.grades) if self.grades else 0\n",
        "\n",
        "\n",
        "s = Student(\"Bob\", [80, 90, 70])\n",
        "print(f\"Average grade of {s.name} is: {s.average_grade():.2f}\")"
      ],
      "metadata": {
        "colab": {
          "base_uri": "https://localhost:8080/"
        },
        "id": "bf5OMZfIgbIW",
        "outputId": "774e307a-b848-4161-d994-7affd8ca4438"
      },
      "execution_count": null,
      "outputs": [
        {
          "output_type": "stream",
          "name": "stdout",
          "text": [
            "Average grade of Bob is: 80.00\n"
          ]
        }
      ]
    },
    {
      "cell_type": "markdown",
      "source": [
        "###13. Create a class Rectangle with methods set_dimensions() to set the dimensions and area() to calculate the area.\n"
      ],
      "metadata": {
        "id": "0Yum6D0-gbur"
      }
    },
    {
      "cell_type": "code",
      "source": [
        "class Rectangle:\n",
        "    def __init__(self):\n",
        "        self.length = 0\n",
        "        self.width = 0\n",
        "\n",
        "    def set_dimensions(self, length, width):\n",
        "        self.length = length\n",
        "        self.width = width\n",
        "\n",
        "    def area(self):\n",
        "        return self.length * self.width\n",
        "\n",
        "\n",
        "r = Rectangle()\n",
        "r.set_dimensions(8, 9)\n",
        "print(f\"Area of rectangle is: {r.area()}\")"
      ],
      "metadata": {
        "colab": {
          "base_uri": "https://localhost:8080/"
        },
        "id": "keO7-yEbgjgn",
        "outputId": "30ef669e-758d-4a01-eb47-57e35a0481d3"
      },
      "execution_count": null,
      "outputs": [
        {
          "output_type": "stream",
          "name": "stdout",
          "text": [
            "Area of rectangle is: 72\n"
          ]
        }
      ]
    },
    {
      "cell_type": "markdown",
      "source": [
        "###14. Create a class Employee with a method calculate_salary() that computes the salary based on hours worked and hourly rate. Create a derived class Manager that adds a bonus to the salary."
      ],
      "metadata": {
        "id": "sEpiBT-8gkGZ"
      }
    },
    {
      "cell_type": "code",
      "source": [
        "class Employee:\n",
        "    def __init__(self, hours_worked, hourly_rate):\n",
        "        self.hours_worked = hours_worked\n",
        "        self.hourly_rate = hourly_rate\n",
        "\n",
        "    def calculate_salary(self):\n",
        "        return self.hours_worked * self.hourly_rate\n",
        "\n",
        "\n",
        "class Manager(Employee): # Derived class Manager\n",
        "    def __init__(self, hours_worked, hourly_rate, bonus):\n",
        "        super().__init__(hours_worked, hourly_rate)\n",
        "        self.bonus = bonus\n",
        "\n",
        "    def calculate_salary(self):\n",
        "        return super().calculate_salary() + self.bonus\n",
        "\n",
        "\n",
        "e = Employee(40, 50)\n",
        "print(\"Employee salary:\", e.calculate_salary())\n",
        "\n",
        "m = Manager(40, 50, 1000)\n",
        "print(\"Manager salary:\", m.calculate_salary())"
      ],
      "metadata": {
        "colab": {
          "base_uri": "https://localhost:8080/"
        },
        "id": "y6lUbuUfgucT",
        "outputId": "0cbd40cd-7163-499d-be91-71d6f6011393"
      },
      "execution_count": null,
      "outputs": [
        {
          "output_type": "stream",
          "name": "stdout",
          "text": [
            "Employee salary: 2000\n",
            "Manager salary: 3000\n"
          ]
        }
      ]
    },
    {
      "cell_type": "markdown",
      "source": [
        "###15. Create a class Product with attributes name, price, and quantity. Implement a method total_price() that calculates the total price of the product.\n"
      ],
      "metadata": {
        "id": "eWeoREGZgu7b"
      }
    },
    {
      "cell_type": "code",
      "source": [
        "class Product:\n",
        "    def __init__(self, name, price, quantity):\n",
        "        self.name = name\n",
        "        self.price = price\n",
        "        self.quantity = quantity\n",
        "\n",
        "    def total_price(self):\n",
        "        return self.price * self.quantity\n",
        "\n",
        "\n",
        "p = Product(\"Laptop\", 60000, 2)\n",
        "print(f\"Total price for {p.quantity} {p.name}(s):\", p.total_price())"
      ],
      "metadata": {
        "colab": {
          "base_uri": "https://localhost:8080/"
        },
        "id": "8apAiXdwg6if",
        "outputId": "a2eb0fd4-c927-44ab-a1cb-ef87964537f4"
      },
      "execution_count": null,
      "outputs": [
        {
          "output_type": "stream",
          "name": "stdout",
          "text": [
            "Total price for 2 Laptop(s): 120000\n"
          ]
        }
      ]
    },
    {
      "cell_type": "markdown",
      "source": [
        "###16. Create a class Animal with an abstract method sound(). Create two derived classes Cow and Sheep that implement the sound() method."
      ],
      "metadata": {
        "id": "9kgQs0L_g7GF"
      }
    },
    {
      "cell_type": "code",
      "source": [
        "from abc import ABC, abstractmethod\n",
        "\n",
        "class Animal(ABC):\n",
        "    @abstractmethod\n",
        "    def sound(self):\n",
        "        pass\n",
        "\n",
        "class Cow(Animal):\n",
        "    def sound(self):\n",
        "        print(\"Cow says Moo\")\n",
        "\n",
        "class Sheep(Animal):\n",
        "    def sound(self):\n",
        "        print(\"Sheep says Baa\")\n",
        "\n",
        "\n",
        "c = Cow()\n",
        "s = Sheep()\n",
        "c.sound()\n",
        "s.sound()"
      ],
      "metadata": {
        "colab": {
          "base_uri": "https://localhost:8080/"
        },
        "id": "faL-RJSihCko",
        "outputId": "79638e98-1408-42d0-def5-6e9b8fd98228"
      },
      "execution_count": null,
      "outputs": [
        {
          "output_type": "stream",
          "name": "stdout",
          "text": [
            "Cow says Moo\n",
            "Sheep says Baa\n"
          ]
        }
      ]
    },
    {
      "cell_type": "markdown",
      "source": [
        "###17. Create a class Book with attributes title, author, and year_published. Add a method get_book_info() that returns a formatted string with the book's details.\n"
      ],
      "metadata": {
        "id": "fo3W05jWhDU5"
      }
    },
    {
      "cell_type": "code",
      "source": [
        "class Book:\n",
        "    def __init__(self, title, author, year_published):\n",
        "        self.title = title\n",
        "        self.author = author\n",
        "        self.year_published = year_published\n",
        "\n",
        "    def get_book_info(self):\n",
        "        return f\"'{self.title}' by {self.author}, published in {self.year_published}\"\n",
        "\n",
        "\n",
        "b = Book(\"Wings of Fire\", \"APJ Abdul Kalam\", 1999)\n",
        "print(b.get_book_info())"
      ],
      "metadata": {
        "colab": {
          "base_uri": "https://localhost:8080/"
        },
        "id": "2ba3rgAUhLkz",
        "outputId": "10c735d9-6f69-41e3-b286-f8e5c799555d"
      },
      "execution_count": null,
      "outputs": [
        {
          "output_type": "stream",
          "name": "stdout",
          "text": [
            "'Wings of Fire' by APJ Abdul Kalam, published in 1999\n"
          ]
        }
      ]
    },
    {
      "cell_type": "markdown",
      "source": [
        "###18. Create a class House with attributes address and price. Create a derived class Mansion that adds an attribute number_of_rooms."
      ],
      "metadata": {
        "id": "U_8rf1nRhMIC"
      }
    },
    {
      "cell_type": "code",
      "source": [
        "class House:\n",
        "    def __init__(self, address, price):\n",
        "        self.address = address\n",
        "        self.price = price\n",
        "\n",
        "class Mansion(House):\n",
        "    def __init__(self, address, price, number_of_rooms):\n",
        "        super().__init__(address, price)\n",
        "        self.number_of_rooms = number_of_rooms\n",
        "\n",
        "\n",
        "m = Mansion(\"120 Palm Street\", 50000000, 22)\n",
        "print(f\"Mansion at {m.address} costs {m.price} and has {m.number_of_rooms} rooms.\")"
      ],
      "metadata": {
        "colab": {
          "base_uri": "https://localhost:8080/"
        },
        "id": "QkFXbLFrhU-v",
        "outputId": "386d9242-2f05-4919-bc77-0b4617ef2012"
      },
      "execution_count": null,
      "outputs": [
        {
          "output_type": "stream",
          "name": "stdout",
          "text": [
            "Mansion at 120 Palm Street costs 50000000 and has 22 rooms.\n"
          ]
        }
      ]
    }
  ]
}